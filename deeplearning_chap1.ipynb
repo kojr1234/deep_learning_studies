{
 "cells": [
  {
   "cell_type": "code",
   "execution_count": 222,
   "id": "28e102a9-8011-49ef-b27e-efaa378435c4",
   "metadata": {},
   "outputs": [],
   "source": [
    "from fastai.vision.all import (untar_data,\n",
    "                               URLs,\n",
    "                               ImageDataLoaders,\n",
    "                               Image,\n",
    "                               show_image,\n",
    "                               to_np)\n",
    "\n",
    "import numpy as np\n",
    "import torch\n",
    "import pandas as pd"
   ]
  },
  {
   "cell_type": "code",
   "execution_count": 2,
   "id": "fa128915-3cc6-4926-a4cb-cd3ce5b444d6",
   "metadata": {},
   "outputs": [],
   "source": [
    "path = untar_data(URLs.MNIST_SAMPLE)"
   ]
  },
  {
   "cell_type": "code",
   "execution_count": 3,
   "id": "b7a08299-409c-4909-87b2-8d5550a3c006",
   "metadata": {},
   "outputs": [
    {
     "data": {
      "text/plain": [
       "(#2) [Path('/Users/fabiofujii/.fastai/data/mnist_sample/train/7'),Path('/Users/fabiofujii/.fastai/data/mnist_sample/train/3')]"
      ]
     },
     "execution_count": 3,
     "metadata": {},
     "output_type": "execute_result"
    }
   ],
   "source": [
    "(path/'train').ls()"
   ]
  },
  {
   "cell_type": "code",
   "execution_count": 4,
   "id": "ebdbb02e-9e7c-4957-b794-bb7de5b46cea",
   "metadata": {},
   "outputs": [],
   "source": [
    "threes = (path/'train'/'3').ls().sorted()\n",
    "sevens = (path/'train'/'7').ls().sorted()"
   ]
  },
  {
   "cell_type": "code",
   "execution_count": 5,
   "id": "22f5a13f-b754-4c21-a206-5bce0f170a7a",
   "metadata": {},
   "outputs": [
    {
     "data": {
      "image/png": "[encoded data removed]",
      "text/plain": [
       "<PIL.PngImagePlugin.PngImageFile image mode=L size=28x28>"
      ]
     },
     "execution_count": 5,
     "metadata": {},
     "output_type": "execute_result"
    }
   ],
   "source": [
    "im3_path = threes[0]\n",
    "im3 = Image.open(im3_path)\n",
    "im3"
   ]
  },
  {
   "cell_type": "code",
   "execution_count": 6,
   "id": "650e47f1-7302-428d-8bd1-aeb962348d01",
   "metadata": {},
   "outputs": [
    {
     "data": {
      "text/plain": [
       "array([[0, 0, 0, 0, 0, 0],\n",
       "       [0, 0, 0, 0, 0, 0],\n",
       "       [0, 0, 0, 0, 0, 0],\n",
       "       [0, 0, 0, 0, 0, 0],\n",
       "       [0, 0, 0, 0, 0, 0],\n",
       "       [0, 0, 0, 0, 0, 0]], dtype=uint8)"
      ]
     },
     "execution_count": 6,
     "metadata": {},
     "output_type": "execute_result"
    }
   ],
   "source": [
    "np.array(im3)[4:10,4:10]"
   ]
  },
  {
   "cell_type": "code",
   "execution_count": 9,
   "id": "92db3f0a-a37c-4965-8f00-ac16da5f52ba",
   "metadata": {},
   "outputs": [
    {
     "data": {
      "text/plain": [
       "tensor([[  0,   0,   0,   0,   0,   0,   0,   0,   0,   0,   0,   0,   0,   0,\n",
       "           0,   0,   0,   0,   0,   0,   0,   0,   0,   0,   0,   0,   0,   0],\n",
       "        [  0,   0,   0,   0,   0,   0,   0,   0,   0,   0,   0,   0,   0,   0,\n",
       "           0,   0,   0,   0,   0,   0,   0,   0,   0,   0,   0,   0,   0,   0],\n",
       "        [  0,   0,   0,   0,   0,   0,   0,   0,   0,   0,   0,   0,   0,   0,\n",
       "           0,   0,   0,   0,   0,   0,   0,   0,   0,   0,   0,   0,   0,   0],\n",
       "        [  0,   0,   0,   0,   0,   0,   0,   0,   0,   0,   0,   0,   0,   0,\n",
       "           0,   0,   0,   0,   0,   0,   0,   0,   0,   0,   0,   0,   0,   0],\n",
       "        [  0,   0,   0,   0,   0,   0,   0,   0,   0,   0,   0,  42, 118, 219,\n",
       "         166, 118, 118,   6,   0,   0,   0,   0,   0,   0,   0,   0,   0,   0],\n",
       "        [  0,   0,   0,   0,   0,   0,   0,   0,   0,   0, 103, 242, 254, 254,\n",
       "         254, 254, 254,  66,   0,   0,   0,   0,   0,   0,   0,   0,   0,   0],\n",
       "        [  0,   0,   0,   0,   0,   0,   0,   0,   0,   0,  18, 232, 254, 254,\n",
       "         254, 254, 254, 238,  70,   0,   0,   0,   0,   0,   0,   0,   0,   0],\n",
       "        [  0,   0,   0,   0,   0,   0,   0,   0,   0,   0,   0, 104, 244, 254,\n",
       "         224, 254, 254, 254, 141,   0,   0,   0,   0,   0,   0,   0,   0,   0],\n",
       "        [  0,   0,   0,   0,   0,   0,   0,   0,   0,   0,   0,   0, 207, 254,\n",
       "         210, 254, 254, 254,  34,   0,   0,   0,   0,   0,   0,   0,   0,   0],\n",
       "        [  0,   0,   0,   0,   0,   0,   0,   0,   0,   0,   0,   0,  84, 206,\n",
       "         254, 254, 254, 254,  41,   0,   0,   0,   0,   0,   0,   0,   0,   0],\n",
       "        [  0,   0,   0,   0,   0,   0,   0,   0,   0,   0,   0,   0,   0,  24,\n",
       "         209, 254, 254, 254, 171,   0,   0,   0,   0,   0,   0,   0,   0,   0],\n",
       "        [  0,   0,   0,   0,   0,   0,   0,   0,   0,   0,   0,   0,  91, 137,\n",
       "         253, 254, 254, 254, 112,   0,   0,   0,   0,   0,   0,   0,   0,   0],\n",
       "        [  0,   0,   0,   0,   0,   0,   0,   0,   0,   0,  40, 214, 250, 254,\n",
       "         254, 254, 254, 254,  34,   0,   0,   0,   0,   0,   0,   0,   0,   0],\n",
       "        [  0,   0,   0,   0,   0,   0,   0,   0,   0,   0,  81, 247, 254, 254,\n",
       "         254, 254, 254, 254, 146,   0,   0,   0,   0,   0,   0,   0,   0,   0],\n",
       "        [  0,   0,   0,   0,   0,   0,   0,   0,   0,   0,   0, 110, 246, 254,\n",
       "         254, 254, 254, 254, 171,   0,   0,   0,   0,   0,   0,   0,   0,   0],\n",
       "        [  0,   0,   0,   0,   0,   0,   0,   0,   0,   0,   0,   0,  73,  89,\n",
       "          89,  93, 240, 254, 171,   0,   0,   0,   0,   0,   0,   0,   0,   0],\n",
       "        [  0,   0,   0,   0,   0,   0,   0,   0,   0,   0,   0,   0,   0,   0,\n",
       "           0,   1, 128, 254, 219,  31,   0,   0,   0,   0,   0,   0,   0,   0],\n",
       "        [  0,   0,   0,   0,   0,   0,   0,   0,   0,   0,   0,   0,   0,   0,\n",
       "           0,   7, 254, 254, 214,  28,   0,   0,   0,   0,   0,   0,   0,   0],\n",
       "        [  0,   0,   0,   0,   0,   0,   0,   0,   0,   0,   0,   0,   0,   0,\n",
       "           0, 138, 254, 254, 116,   0,   0,   0,   0,   0,   0,   0,   0,   0],\n",
       "        [  0,   0,   0,   0,   0,   0,  19, 177,  90,   0,   0,   0,   0,   0,\n",
       "          25, 240, 254, 254,  34,   0,   0,   0,   0,   0,   0,   0,   0,   0],\n",
       "        [  0,   0,   0,   0,   0,   0, 164, 254, 215,  63,  36,   0,  51,  89,\n",
       "         206, 254, 254, 139,   8,   0,   0,   0,   0,   0,   0,   0,   0,   0],\n",
       "        [  0,   0,   0,   0,   0,   0,  57, 197, 254, 254, 222, 180, 241, 254,\n",
       "         254, 253, 213,  11,   0,   0,   0,   0,   0,   0,   0,   0,   0,   0],\n",
       "        [  0,   0,   0,   0,   0,   0,   0, 140, 105, 254, 254, 254, 254, 254,\n",
       "         254, 236,   0,   0,   0,   0,   0,   0,   0,   0,   0,   0,   0,   0],\n",
       "        [  0,   0,   0,   0,   0,   0,   0,   0,   7, 117, 117, 165, 254, 254,\n",
       "         239,  50,   0,   0,   0,   0,   0,   0,   0,   0,   0,   0,   0,   0],\n",
       "        [  0,   0,   0,   0,   0,   0,   0,   0,   0,   0,   0,   0,   0,   0,\n",
       "           0,   0,   0,   0,   0,   0,   0,   0,   0,   0,   0,   0,   0,   0],\n",
       "        [  0,   0,   0,   0,   0,   0,   0,   0,   0,   0,   0,   0,   0,   0,\n",
       "           0,   0,   0,   0,   0,   0,   0,   0,   0,   0,   0,   0,   0,   0],\n",
       "        [  0,   0,   0,   0,   0,   0,   0,   0,   0,   0,   0,   0,   0,   0,\n",
       "           0,   0,   0,   0,   0,   0,   0,   0,   0,   0,   0,   0,   0,   0],\n",
       "        [  0,   0,   0,   0,   0,   0,   0,   0,   0,   0,   0,   0,   0,   0,\n",
       "           0,   0,   0,   0,   0,   0,   0,   0,   0,   0,   0,   0,   0,   0]],\n",
       "       dtype=torch.uint8)"
      ]
     },
     "execution_count": 9,
     "metadata": {},
     "output_type": "execute_result"
    }
   ],
   "source": [
    "torch.tensor(np.array(im3))"
   ]
  },
  {
   "cell_type": "code",
   "execution_count": 11,
   "id": "2c5cdd16-7cbc-4768-a1f5-c4bd66166206",
   "metadata": {},
   "outputs": [
    {
     "data": {
      "text/html": [
       "<style type=\"text/css\">\n",
       "#T_a845d_row0_col0, #T_a845d_row0_col1, #T_a845d_row0_col2, #T_a845d_row0_col3, #T_a845d_row0_col4, #T_a845d_row0_col5, #T_a845d_row0_col6, #T_a845d_row0_col10, #T_a845d_row0_col11, #T_a845d_row0_col12, #T_a845d_row0_col13, #T_a845d_row0_col14, #T_a845d_row0_col15, #T_a845d_row0_col16, #T_a845d_row0_col17, #T_a845d_row1_col0, #T_a845d_row1_col1, #T_a845d_row1_col2, #T_a845d_row1_col3, #T_a845d_row1_col4, #T_a845d_row1_col5, #T_a845d_row1_col14, #T_a845d_row1_col15, #T_a845d_row1_col16, #T_a845d_row1_col17, #T_a845d_row2_col0, #T_a845d_row2_col1, #T_a845d_row2_col2, #T_a845d_row2_col3, #T_a845d_row2_col4, #T_a845d_row2_col5, #T_a845d_row2_col15, #T_a845d_row2_col16, #T_a845d_row2_col17, #T_a845d_row3_col0, #T_a845d_row3_col1, #T_a845d_row3_col2, #T_a845d_row3_col3, #T_a845d_row3_col4, #T_a845d_row3_col5, #T_a845d_row3_col6, #T_a845d_row3_col15, #T_a845d_row3_col16, #T_a845d_row3_col17, #T_a845d_row4_col0, #T_a845d_row4_col1, #T_a845d_row4_col2, #T_a845d_row4_col3, #T_a845d_row4_col4, #T_a845d_row4_col5, #T_a845d_row4_col6, #T_a845d_row4_col7, #T_a845d_row4_col15, #T_a845d_row4_col16, #T_a845d_row4_col17, #T_a845d_row5_col0, #T_a845d_row5_col1, #T_a845d_row5_col2, #T_a845d_row5_col3, #T_a845d_row5_col4, #T_a845d_row5_col5, #T_a845d_row5_col6, #T_a845d_row5_col7, #T_a845d_row5_col15, #T_a845d_row5_col16, #T_a845d_row5_col17, #T_a845d_row6_col0, #T_a845d_row6_col1, #T_a845d_row6_col2, #T_a845d_row6_col3, #T_a845d_row6_col4, #T_a845d_row6_col5, #T_a845d_row6_col6, #T_a845d_row6_col7, #T_a845d_row6_col8, #T_a845d_row6_col9, #T_a845d_row6_col15, #T_a845d_row6_col16, #T_a845d_row6_col17, #T_a845d_row7_col0, #T_a845d_row7_col1, #T_a845d_row7_col2, #T_a845d_row7_col3, #T_a845d_row7_col4, #T_a845d_row7_col5, #T_a845d_row7_col6, #T_a845d_row7_col7, #T_a845d_row7_col15, #T_a845d_row7_col16, #T_a845d_row7_col17, #T_a845d_row8_col0, #T_a845d_row8_col1, #T_a845d_row8_col2, #T_a845d_row8_col3, #T_a845d_row8_col4, #T_a845d_row8_col5, #T_a845d_row8_col15, #T_a845d_row8_col16, #T_a845d_row8_col17, #T_a845d_row9_col0, #T_a845d_row9_col1, #T_a845d_row9_col2, #T_a845d_row9_col3, #T_a845d_row9_col4, #T_a845d_row9_col5, #T_a845d_row9_col15, #T_a845d_row9_col16, #T_a845d_row9_col17, #T_a845d_row10_col0, #T_a845d_row10_col1, #T_a845d_row10_col2, #T_a845d_row10_col3, #T_a845d_row10_col4, #T_a845d_row10_col5, #T_a845d_row10_col6, #T_a845d_row10_col15, #T_a845d_row10_col16, #T_a845d_row10_col17 {\n",
       "  font_size: 6pt;\n",
       "  background-color: #ffffff;\n",
       "  color: #000000;\n",
       "}\n",
       "#T_a845d_row0_col7 {\n",
       "  font_size: 6pt;\n",
       "  background-color: #e8e8e8;\n",
       "  color: #000000;\n",
       "}\n",
       "#T_a845d_row0_col8 {\n",
       "  font_size: 6pt;\n",
       "  background-color: #a2a2a2;\n",
       "  color: #f1f1f1;\n",
       "}\n",
       "#T_a845d_row0_col9 {\n",
       "  font_size: 6pt;\n",
       "  background-color: #2e2e2e;\n",
       "  color: #f1f1f1;\n",
       "}\n",
       "#T_a845d_row1_col6, #T_a845d_row1_col8, #T_a845d_row1_col9, #T_a845d_row1_col10, #T_a845d_row1_col11, #T_a845d_row1_col12, #T_a845d_row2_col8, #T_a845d_row2_col9, #T_a845d_row2_col10, #T_a845d_row2_col11, #T_a845d_row2_col12, #T_a845d_row3_col9, #T_a845d_row3_col11, #T_a845d_row3_col12, #T_a845d_row3_col13, #T_a845d_row4_col9, #T_a845d_row4_col11, #T_a845d_row4_col12, #T_a845d_row4_col13, #T_a845d_row5_col10, #T_a845d_row5_col11, #T_a845d_row5_col12, #T_a845d_row5_col13, #T_a845d_row6_col11, #T_a845d_row6_col12, #T_a845d_row6_col13, #T_a845d_row6_col14, #T_a845d_row7_col11, #T_a845d_row7_col12, #T_a845d_row7_col13, #T_a845d_row8_col9, #T_a845d_row8_col10, #T_a845d_row8_col11, #T_a845d_row8_col12, #T_a845d_row8_col13, #T_a845d_row9_col7, #T_a845d_row9_col8, #T_a845d_row9_col9, #T_a845d_row9_col10, #T_a845d_row9_col11, #T_a845d_row9_col12, #T_a845d_row9_col13, #T_a845d_row10_col9, #T_a845d_row10_col10, #T_a845d_row10_col11, #T_a845d_row10_col12, #T_a845d_row10_col13, #T_a845d_row10_col14 {\n",
       "  font_size: 6pt;\n",
       "  background-color: #000000;\n",
       "  color: #f1f1f1;\n",
       "}\n",
       "#T_a845d_row1_col7 {\n",
       "  font_size: 6pt;\n",
       "  background-color: #060606;\n",
       "  color: #f1f1f1;\n",
       "}\n",
       "#T_a845d_row1_col13, #T_a845d_row5_col14 {\n",
       "  font_size: 6pt;\n",
       "  background-color: #dbdbdb;\n",
       "  color: #000000;\n",
       "}\n",
       "#T_a845d_row2_col6 {\n",
       "  font_size: 6pt;\n",
       "  background-color: #e7e7e7;\n",
       "  color: #000000;\n",
       "}\n",
       "#T_a845d_row2_col7 {\n",
       "  font_size: 6pt;\n",
       "  background-color: #111111;\n",
       "  color: #f1f1f1;\n",
       "}\n",
       "#T_a845d_row2_col13 {\n",
       "  font_size: 6pt;\n",
       "  background-color: #131313;\n",
       "  color: #f1f1f1;\n",
       "}\n",
       "#T_a845d_row2_col14 {\n",
       "  font_size: 6pt;\n",
       "  background-color: #b3b3b3;\n",
       "  color: #000000;\n",
       "}\n",
       "#T_a845d_row3_col7 {\n",
       "  font_size: 6pt;\n",
       "  background-color: #afafaf;\n",
       "  color: #000000;\n",
       "}\n",
       "#T_a845d_row3_col8 {\n",
       "  font_size: 6pt;\n",
       "  background-color: #0c0c0c;\n",
       "  color: #f1f1f1;\n",
       "}\n",
       "#T_a845d_row3_col10 {\n",
       "  font_size: 6pt;\n",
       "  background-color: #6a6a6a;\n",
       "  color: #f1f1f1;\n",
       "}\n",
       "#T_a845d_row3_col14 {\n",
       "  font_size: 6pt;\n",
       "  background-color: #363636;\n",
       "  color: #f1f1f1;\n",
       "}\n",
       "#T_a845d_row4_col8 {\n",
       "  font_size: 6pt;\n",
       "  background-color: #3a3a3a;\n",
       "  color: #f1f1f1;\n",
       "}\n",
       "#T_a845d_row4_col10 {\n",
       "  font_size: 6pt;\n",
       "  background-color: #959595;\n",
       "  color: #f1f1f1;\n",
       "}\n",
       "#T_a845d_row4_col14, #T_a845d_row8_col14 {\n",
       "  font_size: 6pt;\n",
       "  background-color: #e3e3e3;\n",
       "  color: #000000;\n",
       "}\n",
       "#T_a845d_row5_col8 {\n",
       "  font_size: 6pt;\n",
       "  background-color: #c7c7c7;\n",
       "  color: #000000;\n",
       "}\n",
       "#T_a845d_row5_col9 {\n",
       "  font_size: 6pt;\n",
       "  background-color: #434343;\n",
       "  color: #f1f1f1;\n",
       "}\n",
       "#T_a845d_row6_col10, #T_a845d_row7_col9 {\n",
       "  font_size: 6pt;\n",
       "  background-color: #999999;\n",
       "  color: #f1f1f1;\n",
       "}\n",
       "#T_a845d_row7_col8 {\n",
       "  font_size: 6pt;\n",
       "  background-color: #c1c1c1;\n",
       "  color: #000000;\n",
       "}\n",
       "#T_a845d_row7_col10 {\n",
       "  font_size: 6pt;\n",
       "  background-color: #020202;\n",
       "  color: #f1f1f1;\n",
       "}\n",
       "#T_a845d_row7_col14 {\n",
       "  font_size: 6pt;\n",
       "  background-color: #6b6b6b;\n",
       "  color: #f1f1f1;\n",
       "}\n",
       "#T_a845d_row8_col6 {\n",
       "  font_size: 6pt;\n",
       "  background-color: #b9b9b9;\n",
       "  color: #000000;\n",
       "}\n",
       "#T_a845d_row8_col7 {\n",
       "  font_size: 6pt;\n",
       "  background-color: #282828;\n",
       "  color: #f1f1f1;\n",
       "}\n",
       "#T_a845d_row8_col8 {\n",
       "  font_size: 6pt;\n",
       "  background-color: #050505;\n",
       "  color: #f1f1f1;\n",
       "}\n",
       "#T_a845d_row9_col6 {\n",
       "  font_size: 6pt;\n",
       "  background-color: #444444;\n",
       "  color: #f1f1f1;\n",
       "}\n",
       "#T_a845d_row9_col14 {\n",
       "  font_size: 6pt;\n",
       "  background-color: #2c2c2c;\n",
       "  color: #f1f1f1;\n",
       "}\n",
       "#T_a845d_row10_col7 {\n",
       "  font_size: 6pt;\n",
       "  background-color: #a7a7a7;\n",
       "  color: #f1f1f1;\n",
       "}\n",
       "#T_a845d_row10_col8 {\n",
       "  font_size: 6pt;\n",
       "  background-color: #090909;\n",
       "  color: #f1f1f1;\n",
       "}\n",
       "</style>\n",
       "<table id=\"T_a845d\">\n",
       "  <thead>\n",
       "    <tr>\n",
       "      <th class=\"blank level0\" >&nbsp;</th>\n",
       "      <th id=\"T_a845d_level0_col0\" class=\"col_heading level0 col0\" >0</th>\n",
       "      <th id=\"T_a845d_level0_col1\" class=\"col_heading level0 col1\" >1</th>\n",
       "      <th id=\"T_a845d_level0_col2\" class=\"col_heading level0 col2\" >2</th>\n",
       "      <th id=\"T_a845d_level0_col3\" class=\"col_heading level0 col3\" >3</th>\n",
       "      <th id=\"T_a845d_level0_col4\" class=\"col_heading level0 col4\" >4</th>\n",
       "      <th id=\"T_a845d_level0_col5\" class=\"col_heading level0 col5\" >5</th>\n",
       "      <th id=\"T_a845d_level0_col6\" class=\"col_heading level0 col6\" >6</th>\n",
       "      <th id=\"T_a845d_level0_col7\" class=\"col_heading level0 col7\" >7</th>\n",
       "      <th id=\"T_a845d_level0_col8\" class=\"col_heading level0 col8\" >8</th>\n",
       "      <th id=\"T_a845d_level0_col9\" class=\"col_heading level0 col9\" >9</th>\n",
       "      <th id=\"T_a845d_level0_col10\" class=\"col_heading level0 col10\" >10</th>\n",
       "      <th id=\"T_a845d_level0_col11\" class=\"col_heading level0 col11\" >11</th>\n",
       "      <th id=\"T_a845d_level0_col12\" class=\"col_heading level0 col12\" >12</th>\n",
       "      <th id=\"T_a845d_level0_col13\" class=\"col_heading level0 col13\" >13</th>\n",
       "      <th id=\"T_a845d_level0_col14\" class=\"col_heading level0 col14\" >14</th>\n",
       "      <th id=\"T_a845d_level0_col15\" class=\"col_heading level0 col15\" >15</th>\n",
       "      <th id=\"T_a845d_level0_col16\" class=\"col_heading level0 col16\" >16</th>\n",
       "      <th id=\"T_a845d_level0_col17\" class=\"col_heading level0 col17\" >17</th>\n",
       "    </tr>\n",
       "  </thead>\n",
       "  <tbody>\n",
       "    <tr>\n",
       "      <th id=\"T_a845d_level0_row0\" class=\"row_heading level0 row0\" >0</th>\n",
       "      <td id=\"T_a845d_row0_col0\" class=\"data row0 col0\" >0</td>\n",
       "      <td id=\"T_a845d_row0_col1\" class=\"data row0 col1\" >0</td>\n",
       "      <td id=\"T_a845d_row0_col2\" class=\"data row0 col2\" >0</td>\n",
       "      <td id=\"T_a845d_row0_col3\" class=\"data row0 col3\" >0</td>\n",
       "      <td id=\"T_a845d_row0_col4\" class=\"data row0 col4\" >0</td>\n",
       "      <td id=\"T_a845d_row0_col5\" class=\"data row0 col5\" >0</td>\n",
       "      <td id=\"T_a845d_row0_col6\" class=\"data row0 col6\" >0</td>\n",
       "      <td id=\"T_a845d_row0_col7\" class=\"data row0 col7\" >42</td>\n",
       "      <td id=\"T_a845d_row0_col8\" class=\"data row0 col8\" >118</td>\n",
       "      <td id=\"T_a845d_row0_col9\" class=\"data row0 col9\" >219</td>\n",
       "      <td id=\"T_a845d_row0_col10\" class=\"data row0 col10\" >166</td>\n",
       "      <td id=\"T_a845d_row0_col11\" class=\"data row0 col11\" >118</td>\n",
       "      <td id=\"T_a845d_row0_col12\" class=\"data row0 col12\" >118</td>\n",
       "      <td id=\"T_a845d_row0_col13\" class=\"data row0 col13\" >6</td>\n",
       "      <td id=\"T_a845d_row0_col14\" class=\"data row0 col14\" >0</td>\n",
       "      <td id=\"T_a845d_row0_col15\" class=\"data row0 col15\" >0</td>\n",
       "      <td id=\"T_a845d_row0_col16\" class=\"data row0 col16\" >0</td>\n",
       "      <td id=\"T_a845d_row0_col17\" class=\"data row0 col17\" >0</td>\n",
       "    </tr>\n",
       "    <tr>\n",
       "      <th id=\"T_a845d_level0_row1\" class=\"row_heading level0 row1\" >1</th>\n",
       "      <td id=\"T_a845d_row1_col0\" class=\"data row1 col0\" >0</td>\n",
       "      <td id=\"T_a845d_row1_col1\" class=\"data row1 col1\" >0</td>\n",
       "      <td id=\"T_a845d_row1_col2\" class=\"data row1 col2\" >0</td>\n",
       "      <td id=\"T_a845d_row1_col3\" class=\"data row1 col3\" >0</td>\n",
       "      <td id=\"T_a845d_row1_col4\" class=\"data row1 col4\" >0</td>\n",
       "      <td id=\"T_a845d_row1_col5\" class=\"data row1 col5\" >0</td>\n",
       "      <td id=\"T_a845d_row1_col6\" class=\"data row1 col6\" >103</td>\n",
       "      <td id=\"T_a845d_row1_col7\" class=\"data row1 col7\" >242</td>\n",
       "      <td id=\"T_a845d_row1_col8\" class=\"data row1 col8\" >254</td>\n",
       "      <td id=\"T_a845d_row1_col9\" class=\"data row1 col9\" >254</td>\n",
       "      <td id=\"T_a845d_row1_col10\" class=\"data row1 col10\" >254</td>\n",
       "      <td id=\"T_a845d_row1_col11\" class=\"data row1 col11\" >254</td>\n",
       "      <td id=\"T_a845d_row1_col12\" class=\"data row1 col12\" >254</td>\n",
       "      <td id=\"T_a845d_row1_col13\" class=\"data row1 col13\" >66</td>\n",
       "      <td id=\"T_a845d_row1_col14\" class=\"data row1 col14\" >0</td>\n",
       "      <td id=\"T_a845d_row1_col15\" class=\"data row1 col15\" >0</td>\n",
       "      <td id=\"T_a845d_row1_col16\" class=\"data row1 col16\" >0</td>\n",
       "      <td id=\"T_a845d_row1_col17\" class=\"data row1 col17\" >0</td>\n",
       "    </tr>\n",
       "    <tr>\n",
       "      <th id=\"T_a845d_level0_row2\" class=\"row_heading level0 row2\" >2</th>\n",
       "      <td id=\"T_a845d_row2_col0\" class=\"data row2 col0\" >0</td>\n",
       "      <td id=\"T_a845d_row2_col1\" class=\"data row2 col1\" >0</td>\n",
       "      <td id=\"T_a845d_row2_col2\" class=\"data row2 col2\" >0</td>\n",
       "      <td id=\"T_a845d_row2_col3\" class=\"data row2 col3\" >0</td>\n",
       "      <td id=\"T_a845d_row2_col4\" class=\"data row2 col4\" >0</td>\n",
       "      <td id=\"T_a845d_row2_col5\" class=\"data row2 col5\" >0</td>\n",
       "      <td id=\"T_a845d_row2_col6\" class=\"data row2 col6\" >18</td>\n",
       "      <td id=\"T_a845d_row2_col7\" class=\"data row2 col7\" >232</td>\n",
       "      <td id=\"T_a845d_row2_col8\" class=\"data row2 col8\" >254</td>\n",
       "      <td id=\"T_a845d_row2_col9\" class=\"data row2 col9\" >254</td>\n",
       "      <td id=\"T_a845d_row2_col10\" class=\"data row2 col10\" >254</td>\n",
       "      <td id=\"T_a845d_row2_col11\" class=\"data row2 col11\" >254</td>\n",
       "      <td id=\"T_a845d_row2_col12\" class=\"data row2 col12\" >254</td>\n",
       "      <td id=\"T_a845d_row2_col13\" class=\"data row2 col13\" >238</td>\n",
       "      <td id=\"T_a845d_row2_col14\" class=\"data row2 col14\" >70</td>\n",
       "      <td id=\"T_a845d_row2_col15\" class=\"data row2 col15\" >0</td>\n",
       "      <td id=\"T_a845d_row2_col16\" class=\"data row2 col16\" >0</td>\n",
       "      <td id=\"T_a845d_row2_col17\" class=\"data row2 col17\" >0</td>\n",
       "    </tr>\n",
       "    <tr>\n",
       "      <th id=\"T_a845d_level0_row3\" class=\"row_heading level0 row3\" >3</th>\n",
       "      <td id=\"T_a845d_row3_col0\" class=\"data row3 col0\" >0</td>\n",
       "      <td id=\"T_a845d_row3_col1\" class=\"data row3 col1\" >0</td>\n",
       "      <td id=\"T_a845d_row3_col2\" class=\"data row3 col2\" >0</td>\n",
       "      <td id=\"T_a845d_row3_col3\" class=\"data row3 col3\" >0</td>\n",
       "      <td id=\"T_a845d_row3_col4\" class=\"data row3 col4\" >0</td>\n",
       "      <td id=\"T_a845d_row3_col5\" class=\"data row3 col5\" >0</td>\n",
       "      <td id=\"T_a845d_row3_col6\" class=\"data row3 col6\" >0</td>\n",
       "      <td id=\"T_a845d_row3_col7\" class=\"data row3 col7\" >104</td>\n",
       "      <td id=\"T_a845d_row3_col8\" class=\"data row3 col8\" >244</td>\n",
       "      <td id=\"T_a845d_row3_col9\" class=\"data row3 col9\" >254</td>\n",
       "      <td id=\"T_a845d_row3_col10\" class=\"data row3 col10\" >224</td>\n",
       "      <td id=\"T_a845d_row3_col11\" class=\"data row3 col11\" >254</td>\n",
       "      <td id=\"T_a845d_row3_col12\" class=\"data row3 col12\" >254</td>\n",
       "      <td id=\"T_a845d_row3_col13\" class=\"data row3 col13\" >254</td>\n",
       "      <td id=\"T_a845d_row3_col14\" class=\"data row3 col14\" >141</td>\n",
       "      <td id=\"T_a845d_row3_col15\" class=\"data row3 col15\" >0</td>\n",
       "      <td id=\"T_a845d_row3_col16\" class=\"data row3 col16\" >0</td>\n",
       "      <td id=\"T_a845d_row3_col17\" class=\"data row3 col17\" >0</td>\n",
       "    </tr>\n",
       "    <tr>\n",
       "      <th id=\"T_a845d_level0_row4\" class=\"row_heading level0 row4\" >4</th>\n",
       "      <td id=\"T_a845d_row4_col0\" class=\"data row4 col0\" >0</td>\n",
       "      <td id=\"T_a845d_row4_col1\" class=\"data row4 col1\" >0</td>\n",
       "      <td id=\"T_a845d_row4_col2\" class=\"data row4 col2\" >0</td>\n",
       "      <td id=\"T_a845d_row4_col3\" class=\"data row4 col3\" >0</td>\n",
       "      <td id=\"T_a845d_row4_col4\" class=\"data row4 col4\" >0</td>\n",
       "      <td id=\"T_a845d_row4_col5\" class=\"data row4 col5\" >0</td>\n",
       "      <td id=\"T_a845d_row4_col6\" class=\"data row4 col6\" >0</td>\n",
       "      <td id=\"T_a845d_row4_col7\" class=\"data row4 col7\" >0</td>\n",
       "      <td id=\"T_a845d_row4_col8\" class=\"data row4 col8\" >207</td>\n",
       "      <td id=\"T_a845d_row4_col9\" class=\"data row4 col9\" >254</td>\n",
       "      <td id=\"T_a845d_row4_col10\" class=\"data row4 col10\" >210</td>\n",
       "      <td id=\"T_a845d_row4_col11\" class=\"data row4 col11\" >254</td>\n",
       "      <td id=\"T_a845d_row4_col12\" class=\"data row4 col12\" >254</td>\n",
       "      <td id=\"T_a845d_row4_col13\" class=\"data row4 col13\" >254</td>\n",
       "      <td id=\"T_a845d_row4_col14\" class=\"data row4 col14\" >34</td>\n",
       "      <td id=\"T_a845d_row4_col15\" class=\"data row4 col15\" >0</td>\n",
       "      <td id=\"T_a845d_row4_col16\" class=\"data row4 col16\" >0</td>\n",
       "      <td id=\"T_a845d_row4_col17\" class=\"data row4 col17\" >0</td>\n",
       "    </tr>\n",
       "    <tr>\n",
       "      <th id=\"T_a845d_level0_row5\" class=\"row_heading level0 row5\" >5</th>\n",
       "      <td id=\"T_a845d_row5_col0\" class=\"data row5 col0\" >0</td>\n",
       "      <td id=\"T_a845d_row5_col1\" class=\"data row5 col1\" >0</td>\n",
       "      <td id=\"T_a845d_row5_col2\" class=\"data row5 col2\" >0</td>\n",
       "      <td id=\"T_a845d_row5_col3\" class=\"data row5 col3\" >0</td>\n",
       "      <td id=\"T_a845d_row5_col4\" class=\"data row5 col4\" >0</td>\n",
       "      <td id=\"T_a845d_row5_col5\" class=\"data row5 col5\" >0</td>\n",
       "      <td id=\"T_a845d_row5_col6\" class=\"data row5 col6\" >0</td>\n",
       "      <td id=\"T_a845d_row5_col7\" class=\"data row5 col7\" >0</td>\n",
       "      <td id=\"T_a845d_row5_col8\" class=\"data row5 col8\" >84</td>\n",
       "      <td id=\"T_a845d_row5_col9\" class=\"data row5 col9\" >206</td>\n",
       "      <td id=\"T_a845d_row5_col10\" class=\"data row5 col10\" >254</td>\n",
       "      <td id=\"T_a845d_row5_col11\" class=\"data row5 col11\" >254</td>\n",
       "      <td id=\"T_a845d_row5_col12\" class=\"data row5 col12\" >254</td>\n",
       "      <td id=\"T_a845d_row5_col13\" class=\"data row5 col13\" >254</td>\n",
       "      <td id=\"T_a845d_row5_col14\" class=\"data row5 col14\" >41</td>\n",
       "      <td id=\"T_a845d_row5_col15\" class=\"data row5 col15\" >0</td>\n",
       "      <td id=\"T_a845d_row5_col16\" class=\"data row5 col16\" >0</td>\n",
       "      <td id=\"T_a845d_row5_col17\" class=\"data row5 col17\" >0</td>\n",
       "    </tr>\n",
       "    <tr>\n",
       "      <th id=\"T_a845d_level0_row6\" class=\"row_heading level0 row6\" >6</th>\n",
       "      <td id=\"T_a845d_row6_col0\" class=\"data row6 col0\" >0</td>\n",
       "      <td id=\"T_a845d_row6_col1\" class=\"data row6 col1\" >0</td>\n",
       "      <td id=\"T_a845d_row6_col2\" class=\"data row6 col2\" >0</td>\n",
       "      <td id=\"T_a845d_row6_col3\" class=\"data row6 col3\" >0</td>\n",
       "      <td id=\"T_a845d_row6_col4\" class=\"data row6 col4\" >0</td>\n",
       "      <td id=\"T_a845d_row6_col5\" class=\"data row6 col5\" >0</td>\n",
       "      <td id=\"T_a845d_row6_col6\" class=\"data row6 col6\" >0</td>\n",
       "      <td id=\"T_a845d_row6_col7\" class=\"data row6 col7\" >0</td>\n",
       "      <td id=\"T_a845d_row6_col8\" class=\"data row6 col8\" >0</td>\n",
       "      <td id=\"T_a845d_row6_col9\" class=\"data row6 col9\" >24</td>\n",
       "      <td id=\"T_a845d_row6_col10\" class=\"data row6 col10\" >209</td>\n",
       "      <td id=\"T_a845d_row6_col11\" class=\"data row6 col11\" >254</td>\n",
       "      <td id=\"T_a845d_row6_col12\" class=\"data row6 col12\" >254</td>\n",
       "      <td id=\"T_a845d_row6_col13\" class=\"data row6 col13\" >254</td>\n",
       "      <td id=\"T_a845d_row6_col14\" class=\"data row6 col14\" >171</td>\n",
       "      <td id=\"T_a845d_row6_col15\" class=\"data row6 col15\" >0</td>\n",
       "      <td id=\"T_a845d_row6_col16\" class=\"data row6 col16\" >0</td>\n",
       "      <td id=\"T_a845d_row6_col17\" class=\"data row6 col17\" >0</td>\n",
       "    </tr>\n",
       "    <tr>\n",
       "      <th id=\"T_a845d_level0_row7\" class=\"row_heading level0 row7\" >7</th>\n",
       "      <td id=\"T_a845d_row7_col0\" class=\"data row7 col0\" >0</td>\n",
       "      <td id=\"T_a845d_row7_col1\" class=\"data row7 col1\" >0</td>\n",
       "      <td id=\"T_a845d_row7_col2\" class=\"data row7 col2\" >0</td>\n",
       "      <td id=\"T_a845d_row7_col3\" class=\"data row7 col3\" >0</td>\n",
       "      <td id=\"T_a845d_row7_col4\" class=\"data row7 col4\" >0</td>\n",
       "      <td id=\"T_a845d_row7_col5\" class=\"data row7 col5\" >0</td>\n",
       "      <td id=\"T_a845d_row7_col6\" class=\"data row7 col6\" >0</td>\n",
       "      <td id=\"T_a845d_row7_col7\" class=\"data row7 col7\" >0</td>\n",
       "      <td id=\"T_a845d_row7_col8\" class=\"data row7 col8\" >91</td>\n",
       "      <td id=\"T_a845d_row7_col9\" class=\"data row7 col9\" >137</td>\n",
       "      <td id=\"T_a845d_row7_col10\" class=\"data row7 col10\" >253</td>\n",
       "      <td id=\"T_a845d_row7_col11\" class=\"data row7 col11\" >254</td>\n",
       "      <td id=\"T_a845d_row7_col12\" class=\"data row7 col12\" >254</td>\n",
       "      <td id=\"T_a845d_row7_col13\" class=\"data row7 col13\" >254</td>\n",
       "      <td id=\"T_a845d_row7_col14\" class=\"data row7 col14\" >112</td>\n",
       "      <td id=\"T_a845d_row7_col15\" class=\"data row7 col15\" >0</td>\n",
       "      <td id=\"T_a845d_row7_col16\" class=\"data row7 col16\" >0</td>\n",
       "      <td id=\"T_a845d_row7_col17\" class=\"data row7 col17\" >0</td>\n",
       "    </tr>\n",
       "    <tr>\n",
       "      <th id=\"T_a845d_level0_row8\" class=\"row_heading level0 row8\" >8</th>\n",
       "      <td id=\"T_a845d_row8_col0\" class=\"data row8 col0\" >0</td>\n",
       "      <td id=\"T_a845d_row8_col1\" class=\"data row8 col1\" >0</td>\n",
       "      <td id=\"T_a845d_row8_col2\" class=\"data row8 col2\" >0</td>\n",
       "      <td id=\"T_a845d_row8_col3\" class=\"data row8 col3\" >0</td>\n",
       "      <td id=\"T_a845d_row8_col4\" class=\"data row8 col4\" >0</td>\n",
       "      <td id=\"T_a845d_row8_col5\" class=\"data row8 col5\" >0</td>\n",
       "      <td id=\"T_a845d_row8_col6\" class=\"data row8 col6\" >40</td>\n",
       "      <td id=\"T_a845d_row8_col7\" class=\"data row8 col7\" >214</td>\n",
       "      <td id=\"T_a845d_row8_col8\" class=\"data row8 col8\" >250</td>\n",
       "      <td id=\"T_a845d_row8_col9\" class=\"data row8 col9\" >254</td>\n",
       "      <td id=\"T_a845d_row8_col10\" class=\"data row8 col10\" >254</td>\n",
       "      <td id=\"T_a845d_row8_col11\" class=\"data row8 col11\" >254</td>\n",
       "      <td id=\"T_a845d_row8_col12\" class=\"data row8 col12\" >254</td>\n",
       "      <td id=\"T_a845d_row8_col13\" class=\"data row8 col13\" >254</td>\n",
       "      <td id=\"T_a845d_row8_col14\" class=\"data row8 col14\" >34</td>\n",
       "      <td id=\"T_a845d_row8_col15\" class=\"data row8 col15\" >0</td>\n",
       "      <td id=\"T_a845d_row8_col16\" class=\"data row8 col16\" >0</td>\n",
       "      <td id=\"T_a845d_row8_col17\" class=\"data row8 col17\" >0</td>\n",
       "    </tr>\n",
       "    <tr>\n",
       "      <th id=\"T_a845d_level0_row9\" class=\"row_heading level0 row9\" >9</th>\n",
       "      <td id=\"T_a845d_row9_col0\" class=\"data row9 col0\" >0</td>\n",
       "      <td id=\"T_a845d_row9_col1\" class=\"data row9 col1\" >0</td>\n",
       "      <td id=\"T_a845d_row9_col2\" class=\"data row9 col2\" >0</td>\n",
       "      <td id=\"T_a845d_row9_col3\" class=\"data row9 col3\" >0</td>\n",
       "      <td id=\"T_a845d_row9_col4\" class=\"data row9 col4\" >0</td>\n",
       "      <td id=\"T_a845d_row9_col5\" class=\"data row9 col5\" >0</td>\n",
       "      <td id=\"T_a845d_row9_col6\" class=\"data row9 col6\" >81</td>\n",
       "      <td id=\"T_a845d_row9_col7\" class=\"data row9 col7\" >247</td>\n",
       "      <td id=\"T_a845d_row9_col8\" class=\"data row9 col8\" >254</td>\n",
       "      <td id=\"T_a845d_row9_col9\" class=\"data row9 col9\" >254</td>\n",
       "      <td id=\"T_a845d_row9_col10\" class=\"data row9 col10\" >254</td>\n",
       "      <td id=\"T_a845d_row9_col11\" class=\"data row9 col11\" >254</td>\n",
       "      <td id=\"T_a845d_row9_col12\" class=\"data row9 col12\" >254</td>\n",
       "      <td id=\"T_a845d_row9_col13\" class=\"data row9 col13\" >254</td>\n",
       "      <td id=\"T_a845d_row9_col14\" class=\"data row9 col14\" >146</td>\n",
       "      <td id=\"T_a845d_row9_col15\" class=\"data row9 col15\" >0</td>\n",
       "      <td id=\"T_a845d_row9_col16\" class=\"data row9 col16\" >0</td>\n",
       "      <td id=\"T_a845d_row9_col17\" class=\"data row9 col17\" >0</td>\n",
       "    </tr>\n",
       "    <tr>\n",
       "      <th id=\"T_a845d_level0_row10\" class=\"row_heading level0 row10\" >10</th>\n",
       "      <td id=\"T_a845d_row10_col0\" class=\"data row10 col0\" >0</td>\n",
       "      <td id=\"T_a845d_row10_col1\" class=\"data row10 col1\" >0</td>\n",
       "      <td id=\"T_a845d_row10_col2\" class=\"data row10 col2\" >0</td>\n",
       "      <td id=\"T_a845d_row10_col3\" class=\"data row10 col3\" >0</td>\n",
       "      <td id=\"T_a845d_row10_col4\" class=\"data row10 col4\" >0</td>\n",
       "      <td id=\"T_a845d_row10_col5\" class=\"data row10 col5\" >0</td>\n",
       "      <td id=\"T_a845d_row10_col6\" class=\"data row10 col6\" >0</td>\n",
       "      <td id=\"T_a845d_row10_col7\" class=\"data row10 col7\" >110</td>\n",
       "      <td id=\"T_a845d_row10_col8\" class=\"data row10 col8\" >246</td>\n",
       "      <td id=\"T_a845d_row10_col9\" class=\"data row10 col9\" >254</td>\n",
       "      <td id=\"T_a845d_row10_col10\" class=\"data row10 col10\" >254</td>\n",
       "      <td id=\"T_a845d_row10_col11\" class=\"data row10 col11\" >254</td>\n",
       "      <td id=\"T_a845d_row10_col12\" class=\"data row10 col12\" >254</td>\n",
       "      <td id=\"T_a845d_row10_col13\" class=\"data row10 col13\" >254</td>\n",
       "      <td id=\"T_a845d_row10_col14\" class=\"data row10 col14\" >171</td>\n",
       "      <td id=\"T_a845d_row10_col15\" class=\"data row10 col15\" >0</td>\n",
       "      <td id=\"T_a845d_row10_col16\" class=\"data row10 col16\" >0</td>\n",
       "      <td id=\"T_a845d_row10_col17\" class=\"data row10 col17\" >0</td>\n",
       "    </tr>\n",
       "  </tbody>\n",
       "</table>\n"
      ],
      "text/plain": [
       "<pandas.io.formats.style.Styler at 0x7fd6b39301c0>"
      ]
     },
     "execution_count": 11,
     "metadata": {},
     "output_type": "execute_result"
    }
   ],
   "source": [
    "im3_t = torch.tensor(np.array(im3))\n",
    "df = pd.DataFrame(im3_t[4:15, 4:22])\n",
    "df.style.set_properties(**{'font_size':'6pt'}).background_gradient('Greys')"
   ]
  },
  {
   "cell_type": "code",
   "execution_count": 13,
   "id": "edf787bd-8889-4235-a059-4b9c67c9dbbe",
   "metadata": {},
   "outputs": [],
   "source": [
    "threes_tensors = [torch.tensor(np.array(Image.open(im_path))) for im_path in threes]\n",
    "sevens_tensors = [torch.tensor(np.array(Image.open(im_path))) for im_path in sevens]"
   ]
  },
  {
   "cell_type": "code",
   "execution_count": 16,
   "id": "98dbc7bc-b6b3-414b-98dd-610c6b6d2e33",
   "metadata": {},
   "outputs": [
    {
     "data": {
      "text/plain": [
       "(6131, 6265)"
      ]
     },
     "execution_count": 16,
     "metadata": {},
     "output_type": "execute_result"
    }
   ],
   "source": [
    "len(threes_tensors), len(sevens_tensors)"
   ]
  },
  {
   "cell_type": "code",
   "execution_count": 18,
   "id": "292f53b9-8021-432f-b0fe-f5e27296afb4",
   "metadata": {},
   "outputs": [
    {
     "data": {
      "text/plain": [
       "<AxesSubplot:>"
      ]
     },
     "execution_count": 18,
     "metadata": {},
     "output_type": "execute_result"
    },
    {
     "data": {
      "image/png": "[encoded data removed]",
      "text/plain": [
       "<Figure size 72x72 with 1 Axes>"
      ]
     },
     "metadata": {
      "needs_background": "light"
     },
     "output_type": "display_data"
    }
   ],
   "source": [
    "show_image(threes_tensors[0])"
   ]
  },
  {
   "cell_type": "code",
   "execution_count": 65,
   "id": "6471693e-ac99-4776-a9e8-0e2c4bf8f3f7",
   "metadata": {},
   "outputs": [
    {
     "data": {
      "text/plain": [
       "(torch.Size([6131, 28, 28]), torch.Size([6265, 28, 28]))"
      ]
     },
     "execution_count": 65,
     "metadata": {},
     "output_type": "execute_result"
    }
   ],
   "source": [
    "stacked_threes = torch.stack(threes_tensors).float()/255\n",
    "stacked_sevens = torch.stack(sevens_tensors).float()/255\n",
    "\n",
    "stacked_threes.shape, stacked_sevens.shape"
   ]
  },
  {
   "cell_type": "markdown",
   "id": "92110191-d9df-4f4c-8ab9-cf7715a9bf3c",
   "metadata": {},
   "source": [
    "# baseline\n",
    "\n",
    "Similarity: distance from the average pixels of each number"
   ]
  },
  {
   "cell_type": "code",
   "execution_count": 66,
   "id": "95635eb5-c4ca-4302-8ed9-8b3145ecd3bb",
   "metadata": {},
   "outputs": [
    {
     "data": {
      "text/plain": [
       "(<AxesSubplot:>, <AxesSubplot:>)"
      ]
     },
     "execution_count": 66,
     "metadata": {},
     "output_type": "execute_result"
    },
    {
     "data": {
      "image/png": "[encoded data removed]",
      "text/plain": [
       "<Figure size 72x72 with 1 Axes>"
      ]
     },
     "metadata": {
      "needs_background": "light"
     },
     "output_type": "display_data"
    },
    {
     "data": {
      "image/png": "[encoded data removed]",
      "text/plain": [
       "<Figure size 72x72 with 1 Axes>"
      ]
     },
     "metadata": {
      "needs_background": "light"
     },
     "output_type": "display_data"
    }
   ],
   "source": [
    "# getting the average of threes\n",
    "mean3 = stacked_threes.mean(0)\n",
    "mean7 = stacked_sevens.mean(0)\n",
    "\n",
    "show_image(mean3), show_image(mean7)"
   ]
  },
  {
   "cell_type": "code",
   "execution_count": 67,
   "id": "faf4eeaf-eb6b-40b6-8b9c-5aa9c8e8715d",
   "metadata": {},
   "outputs": [
    {
     "data": {
      "text/plain": [
       "(<AxesSubplot:>, <AxesSubplot:>)"
      ]
     },
     "execution_count": 67,
     "metadata": {},
     "output_type": "execute_result"
    },
    {
     "data": {
      "image/png": "[encoded data removed]",
      "text/plain": [
       "<Figure size 72x72 with 1 Axes>"
      ]
     },
     "metadata": {
      "needs_background": "light"
     },
     "output_type": "display_data"
    },
    {
     "data": {
      "image/png": "[encoded data removed]",
      "text/plain": [
       "<Figure size 72x72 with 1 Axes>"
      ]
     },
     "metadata": {
      "needs_background": "light"
     },
     "output_type": "display_data"
    }
   ],
   "source": [
    "# getting a random num\n",
    "a_3 = stacked_threes[0]\n",
    "a_7 = stacked_sevens[0]\n",
    "show_image(a_3), show_image(a_7)"
   ]
  },
  {
   "cell_type": "code",
   "execution_count": 56,
   "id": "98c499f5-9720-4693-87a2-71cdeb5b1c8d",
   "metadata": {},
   "outputs": [
    {
     "data": {
      "text/plain": [
       "<AxesSubplot:>"
      ]
     },
     "execution_count": 56,
     "metadata": {},
     "output_type": "execute_result"
    },
    {
     "data": {
      "image/png": "[encoded data removed]",
      "text/plain": [
       "<Figure size 72x72 with 1 Axes>"
      ]
     },
     "metadata": {
      "needs_background": "light"
     },
     "output_type": "display_data"
    }
   ],
   "source": [
    "diff3 = a_3 - mean3\n",
    "show_image(diff3)"
   ]
  },
  {
   "cell_type": "markdown",
   "id": "703ba981-50b9-47fc-8889-29849d86c59b",
   "metadata": {},
   "source": [
    "L1\n",
    "\n",
    "* l1 norm -> (abs(x1 - x2) + abs(y1 + y2))/2 mean absolute difference (error)\n",
    "* dist l1 -> abs(x1 - x2) + abs(y1 + y2) manhattan distance\n",
    "\n",
    "L2\n",
    "\n",
    "* l2 norm -> sqrt((x1 - x2)ˆ2 + (y1 - y2)ˆ2)/2 # root mean squared difference (error)\n",
    "* dist l2 -> sqrt((x1 - x2)ˆ2 + (y1 - y2)ˆ2) # euclidean distance "
   ]
  },
  {
   "cell_type": "code",
   "execution_count": 70,
   "id": "183d97fb-314b-4349-b3ff-adb45c63ffbf",
   "metadata": {},
   "outputs": [
    {
     "name": "stdout",
     "output_type": "stream",
     "text": [
      "l1 norm\n",
      "tensor(0.1074)\n",
      "l2 norm\n",
      "tensor(0.1912)\n"
     ]
    }
   ],
   "source": [
    "# calculating the L1 norm and l2 Norm\n",
    "print('l1 norm')\n",
    "print((mean3 - a_3).abs().mean())\n",
    "\n",
    "print('l2 norm')\n",
    "print(((mean3 - a_3)**2).mean().sqrt())"
   ]
  },
  {
   "cell_type": "code",
   "execution_count": 81,
   "id": "7264efc2-5f3e-4a82-8969-cb02cd5aee4b",
   "metadata": {},
   "outputs": [
    {
     "data": {
      "text/plain": [
       "(tensor(0.1074), tensor(0.1912))"
      ]
     },
     "execution_count": 81,
     "metadata": {},
     "output_type": "execute_result"
    }
   ],
   "source": [
    "# we can also use the l1 loss from pytorch itself\n",
    "import torch.nn.functional as F\n",
    "\n",
    "F.l1_loss(input=a_3, target=mean3), F.mse_loss(input=a_3, target=mean3).sqrt()"
   ]
  },
  {
   "cell_type": "code",
   "execution_count": 58,
   "id": "64b92ca5-0955-4a0a-af6b-61894d699986",
   "metadata": {},
   "outputs": [
    {
     "name": "stdout",
     "output_type": "stream",
     "text": [
      "number 3\n",
      "L1 norm\n",
      "dist from mean3: 84.21893310546875  dist from mean7: 113.00668334960938\n",
      "L2 norm\n",
      "dist from mean3: 5.353653907775879  dist from mean7: 7.78529167175293\n"
     ]
    }
   ],
   "source": [
    "# distance of a number 3 from the mean of number 3 and number 7\n",
    "print('number 3')\n",
    "print('L1 norm')\n",
    "print('dist from mean3: {}  dist from mean7: {}'.format(torch.dist(mean3, a_3, p=1), torch.dist(mean7, a_3, p=1)))\n",
    "\n",
    "print('L2 norm')\n",
    "print('dist from mean3: {}  dist from mean7: {}'.format(torch.dist(mean3, a_3), torch.dist(mean7, a_3)))"
   ]
  },
  {
   "cell_type": "code",
   "execution_count": 59,
   "id": "b8c4d551-d103-4390-ac03-4e4089e35bdc",
   "metadata": {},
   "outputs": [
    {
     "name": "stdout",
     "output_type": "stream",
     "text": [
      "number 7\n",
      "L1 norm\n",
      "dist from mean3: 134.49807739257812  dist from mean7: 85.87838745117188\n",
      "L2 norm\n",
      "dist from mean3: 8.485733032226562  dist from mean7: 6.1479692459106445\n"
     ]
    }
   ],
   "source": [
    "# distance of a number 3 from the mean of number 3 and number 7\n",
    "print('number 7')\n",
    "print('L1 norm')\n",
    "print('dist from mean3: {}  dist from mean7: {}'.format(torch.dist(mean3, a_7, p=1), torch.dist(mean7, a_7, p=1)))\n",
    "\n",
    "print('L2 norm')\n",
    "print('dist from mean3: {}  dist from mean7: {}'.format(torch.dist(mean3, a_7), torch.dist(mean7, a_7)))"
   ]
  },
  {
   "cell_type": "code",
   "execution_count": 92,
   "id": "fe82e507-81a7-4e81-82ab-f3b93e385d29",
   "metadata": {},
   "outputs": [
    {
     "data": {
      "text/plain": [
       "tensor([1., 1., 2., 2.])"
      ]
     },
     "execution_count": 92,
     "metadata": {},
     "output_type": "execute_result"
    }
   ],
   "source": [
    "torch.concat([a,b])"
   ]
  },
  {
   "cell_type": "code",
   "execution_count": 96,
   "id": "655f7f13-a14d-4a89-bd8e-3163beea0728",
   "metadata": {},
   "outputs": [],
   "source": [
    "a = torch.tensor([1,2])"
   ]
  },
  {
   "cell_type": "code",
   "execution_count": 97,
   "id": "8089b6b5-ede7-4fe5-ba35-25db48c0492c",
   "metadata": {},
   "outputs": [
    {
     "data": {
      "text/plain": [
       "tensor(1)"
      ]
     },
     "execution_count": 97,
     "metadata": {},
     "output_type": "execute_result"
    }
   ],
   "source": [
    "a.argmax()"
   ]
  },
  {
   "cell_type": "code",
   "execution_count": 145,
   "id": "9bd0a17b-4959-4f31-a25a-00a3b17906a4",
   "metadata": {},
   "outputs": [],
   "source": [
    "# creating the baseline model\n",
    "\n",
    "def mae(a,b):\n",
    "    return (a-b).abs().mean()\n",
    "\n",
    "# binary classification with 0 = '3' and 1 = '7'\n",
    "def baseline_classifier(im):\n",
    "    mae_t = torch.tensor([mae(im, mean3), mae(im, mean7)])\n",
    "    return mae_t.argmin()"
   ]
  },
  {
   "cell_type": "code",
   "execution_count": 158,
   "id": "2fa04ac2-340a-4f63-b330-41f5040b1a0b",
   "metadata": {},
   "outputs": [],
   "source": [
    "valid_3_tensor = torch.stack([torch.tensor(np.array(Image.open(im)))/255 for im in (path/'valid'/'3').ls()])\n",
    "valid_7_tensor = torch.stack([torch.tensor(np.array(Image.open(im)))/255 for im in (path/'valid'/'7').ls()])"
   ]
  },
  {
   "cell_type": "code",
   "execution_count": 159,
   "id": "0f000af7-6157-4d78-87f4-7fb0b70208fa",
   "metadata": {},
   "outputs": [
    {
     "data": {
      "text/plain": [
       "(torch.Size([1010, 28, 28]), torch.Size([1028, 28, 28]))"
      ]
     },
     "execution_count": 159,
     "metadata": {},
     "output_type": "execute_result"
    }
   ],
   "source": [
    "valid_3_tensor.shape, valid_7_tensor.shape"
   ]
  },
  {
   "cell_type": "code",
   "execution_count": 160,
   "id": "b63bcf7e-ea85-4de6-b8ca-11d5bd0bf1c9",
   "metadata": {},
   "outputs": [],
   "source": [
    "result3 = torch.stack([baseline_classifier(im) for im in valid_3_tensor])\n",
    "result7 = torch.stack([baseline_classifier(im) for im in valid_7_tensor])"
   ]
  },
  {
   "cell_type": "code",
   "execution_count": 161,
   "id": "5e4b9922-2f00-4d69-8a89-372f459b2e1e",
   "metadata": {},
   "outputs": [
    {
     "name": "stdout",
     "output_type": "stream",
     "text": [
      "accuracy on number 3: 0.9168316721916199\n",
      "accuracy on number 7: 0.9854085445404053\n"
     ]
    }
   ],
   "source": [
    "print('accuracy on number 3: {}'.format((result3 == 0).float().mean()))\n",
    "print('accuracy on number 7: {}'.format((result7 == 1).float().mean()))"
   ]
  },
  {
   "cell_type": "code",
   "execution_count": 162,
   "id": "39441234-dd78-427f-8fc7-5f7aca2bad94",
   "metadata": {},
   "outputs": [
    {
     "name": "stdout",
     "output_type": "stream",
     "text": [
      "overall result: 0.9514229893684387\n"
     ]
    }
   ],
   "source": [
    "result_overall = torch.concat(((result3 == 0).float(), (result7 == 1).float()))\n",
    "print('overall result: {}'.format(result_overall.mean()))"
   ]
  },
  {
   "cell_type": "code",
   "execution_count": 166,
   "id": "154ab6c0-228a-4c95-8248-720542b989ef",
   "metadata": {},
   "outputs": [
    {
     "data": {
      "text/plain": [
       "tensor([0.1634, 0.1145, 0.1363,  ..., 0.1105, 0.1111, 0.1640])"
      ]
     },
     "execution_count": 166,
     "metadata": {},
     "output_type": "execute_result"
    }
   ],
   "source": [
    "def broadcast_mae(a, b):\n",
    "    return (a-b).abs().mean((-1,-2))\n",
    "\n",
    "broadcast_mae(mean3, valid_3_tensor)"
   ]
  },
  {
   "cell_type": "code",
   "execution_count": 173,
   "id": "e708899f-57f4-4019-9425-c182a78a55f0",
   "metadata": {},
   "outputs": [
    {
     "data": {
      "text/plain": [
       "tensor(0.9511)"
      ]
     },
     "execution_count": 173,
     "metadata": {},
     "output_type": "execute_result"
    }
   ],
   "source": [
    "# Book approach\n",
    "\n",
    "def is_3(x):\n",
    "    return broadcast_mae(mean3, x) < broadcast_mae(mean7, x)\n",
    "\n",
    "# is 3                                # is 7\n",
    "(is_3(valid_3_tensor).float().mean() + (is_3(valid_7_tensor).float() - 1).abs().mean())/2"
   ]
  },
  {
   "cell_type": "markdown",
   "id": "c0c667bc-73a5-4169-a50f-5d3a0081761c",
   "metadata": {},
   "source": [
    "# Using gradients"
   ]
  },
  {
   "cell_type": "code",
   "execution_count": 199,
   "id": "c0565f8a-78bd-4fd4-a7a1-f834cc76ddbd",
   "metadata": {},
   "outputs": [],
   "source": [
    "# We are telling the api to calculate the gradient\n",
    "# we use the requires_grad_ function. What it does is\n",
    "# it tells pytorch that we want to calculate te gradients\n",
    "# with respect to that variable at that value\n",
    "xt = torch.tensor(3.).requires_grad_()"
   ]
  },
  {
   "cell_type": "code",
   "execution_count": 200,
   "id": "84aff192-9271-47e6-bce4-e3ba17a35509",
   "metadata": {},
   "outputs": [
    {
     "data": {
      "text/plain": [
       "tensor(9., grad_fn=<PowBackward0>)"
      ]
     },
     "execution_count": 200,
     "metadata": {},
     "output_type": "execute_result"
    }
   ],
   "source": [
    "def square(x):\n",
    "    return x**2\n",
    "\n",
    "yt = square(xt)\n",
    "yt"
   ]
  },
  {
   "cell_type": "code",
   "execution_count": 201,
   "id": "726ed9e8-67b0-465d-acfe-4283082eff00",
   "metadata": {},
   "outputs": [
    {
     "data": {
      "text/plain": [
       "tensor(6.)"
      ]
     },
     "execution_count": 201,
     "metadata": {},
     "output_type": "execute_result"
    }
   ],
   "source": [
    "# to calculate the gradient \n",
    "yt.backward()\n",
    "xt.grad"
   ]
  },
  {
   "cell_type": "code",
   "execution_count": 210,
   "id": "0834fdef-27b9-4d0d-b31f-cde28cddc51b",
   "metadata": {},
   "outputs": [
    {
     "name": "stdout",
     "output_type": "stream",
     "text": [
      "tensor(100.0581, grad_fn=<SumBackward0>)\n"
     ]
    },
    {
     "data": {
      "text/plain": [
       "tensor([ 0.0460,  0.4800, 20.0000])"
      ]
     },
     "execution_count": 210,
     "metadata": {},
     "output_type": "execute_result"
    }
   ],
   "source": [
    "def other_f(x):\n",
    "    return (x**2).sum()\n",
    "xt = torch.tensor([.023,.24,10.]).requires_grad_()\n",
    "yt = other_f(xt)\n",
    "print(yt)\n",
    "yt.backward()\n",
    "xt.grad"
   ]
  },
  {
   "cell_type": "code",
   "execution_count": 211,
   "id": "070098b1-3b95-4c6c-8fc2-fafe068d0d65",
   "metadata": {},
   "outputs": [],
   "source": [
    "import matplotlib.pyplot as plt"
   ]
  },
  {
   "cell_type": "code",
   "execution_count": 213,
   "id": "b5a6f768-44c8-4a11-bc7c-2673d28df334",
   "metadata": {},
   "outputs": [
    {
     "data": {
      "image/png": "[encoded data removed]",
      "text/plain": [
       "<Figure size 432x288 with 1 Axes>"
      ]
     },
     "metadata": {
      "needs_background": "light"
     },
     "output_type": "display_data"
    }
   ],
   "source": [
    "time = torch.arange(0,20).float()\n",
    "speed = torch.randn(20)*3 + .75*(time-9.5)**2 + 1\n",
    "\n",
    "plt.scatter(time, speed)\n",
    "plt.show()"
   ]
  },
  {
   "cell_type": "code",
   "execution_count": 305,
   "id": "b1c632a0-e974-4f15-b250-9882cf3f0c0f",
   "metadata": {},
   "outputs": [],
   "source": [
    "def mse(target, pred):\n",
    "    return ((pred-target)**2).mean()\n",
    "\n",
    "def f(t, params):\n",
    "    a,b,c = params\n",
    "    return a*(t**2) + (b*t) + c"
   ]
  },
  {
   "cell_type": "code",
   "execution_count": 266,
   "id": "a4de12bc-4db3-4cab-b460-4438288226d8",
   "metadata": {},
   "outputs": [],
   "source": [
    "params = torch.randn(3).requires_grad_()"
   ]
  },
  {
   "cell_type": "code",
   "execution_count": 267,
   "id": "00b75258-25e0-4436-8b2c-6b179bcd424f",
   "metadata": {},
   "outputs": [],
   "source": [
    "preds = f(time, params)"
   ]
  },
  {
   "cell_type": "code",
   "execution_count": 268,
   "id": "1ae8dd18-67b6-4694-9002-7fdbf74a2c29",
   "metadata": {},
   "outputs": [
    {
     "data": {
      "image/png": "[encoded data removed]",
      "text/plain": [
       "<Figure size 432x288 with 1 Axes>"
      ]
     },
     "metadata": {
      "needs_background": "light"
     },
     "output_type": "display_data"
    }
   ],
   "source": [
    "def show_preds(preds, ax=None):\n",
    "    if ax is None: ax=plt.subplots()[1]\n",
    "    ax.scatter(time, speed)\n",
    "    ax.scatter(time, to_np(preds), color='red')\n",
    "    ax.set_ylim(-200, 200)\n",
    "\n",
    "show_preds(preds)"
   ]
  },
  {
   "cell_type": "code",
   "execution_count": 279,
   "id": "746285da-4e31-45ff-ac12-3c48f6a67f2f",
   "metadata": {},
   "outputs": [
    {
     "data": {
      "text/plain": [
       "tensor([-3370.3184,  -196.8414,   -29.5121])"
      ]
     },
     "execution_count": 279,
     "metadata": {},
     "output_type": "execute_result"
    }
   ],
   "source": [
    "loss = mse(speed, preds)\n",
    "loss.backward()\n",
    "\n",
    "params.grad"
   ]
  },
  {
   "cell_type": "code",
   "execution_count": 280,
   "id": "4195d3d4-2b5e-4223-92c8-81b5b5dec4d1",
   "metadata": {},
   "outputs": [],
   "source": [
    "params.data -= lr*params.grad\n",
    "params.grad = None"
   ]
  },
  {
   "cell_type": "code",
   "execution_count": 278,
   "id": "46e4f81c-fc8d-4a86-b211-9bd31281b72a",
   "metadata": {},
   "outputs": [],
   "source": [
    "preds = f(time, params)"
   ]
  },
  {
   "cell_type": "code",
   "execution_count": 281,
   "id": "885189db-fef1-4847-98ff-ac5b80e4a372",
   "metadata": {},
   "outputs": [
    {
     "data": {
      "image/png": "[encoded data removed]",
      "text/plain": [
       "<Figure size 432x288 with 1 Axes>"
      ]
     },
     "metadata": {
      "needs_background": "light"
     },
     "output_type": "display_data"
    }
   ],
   "source": [
    "# second step\n",
    "preds = f(time, params)\n",
    "show_preds(preds)"
   ]
  },
  {
   "cell_type": "code",
   "execution_count": 309,
   "id": "c5db974f-24ec-4c31-880d-b8c7d1a9afa1",
   "metadata": {},
   "outputs": [
    {
     "data": {
      "image/png": "[encoded data removed]",
      "text/plain": [
       "<Figure size 864x216 with 4 Axes>"
      ]
     },
     "metadata": {
      "needs_background": "light"
     },
     "output_type": "display_data"
    }
   ],
   "source": [
    "def apply_step(params,lr=1e-5, prn=True):\n",
    "    preds = f(time, params)\n",
    "    loss = mse(speed, preds)\n",
    "    loss.backward()\n",
    "    params.data -= params.grad * lr\n",
    "    params.grad = None\n",
    "    if prn: print('loss: {}'.format(loss.item()))\n",
    "    return preds\n",
    "\n",
    "params = torch.randn(3).requires_grad_()\n",
    "\n",
    "_, axs = plt.subplots(1, 4, figsize=(12,3))\n",
    "\n",
    "for ax in axs: show_preds(apply_step(params, prn=False), ax=ax)\n",
    "plt.tight_layout()\n"
   ]
  },
  {
   "cell_type": "markdown",
   "id": "7711f88e-484b-49a1-8e0c-d93dbf31da0e",
   "metadata": {},
   "source": [
    "# Using SGD for MNIST"
   ]
  },
  {
   "cell_type": "code",
   "execution_count": 315,
   "id": "b98dd54d-6719-4469-a993-b836330f193a",
   "metadata": {},
   "outputs": [],
   "source": [
    "# concatenate all images and flatten to become 784 columns by 12396 rows\n",
    "train_x = torch.cat([stacked_threes, stacked_sevens]).view(-1, 28*28)"
   ]
  },
  {
   "cell_type": "code",
   "execution_count": 321,
   "id": "3cdb247b-b434-4f0a-ac50-70fae0a25278",
   "metadata": {},
   "outputs": [],
   "source": [
    "# we use unsqueeze to make the y as a rank-2 instead of rank-0 tensor\n",
    "train_y = torch.tensor(len(threes)*[1] + len(sevens)*[0]).unsqueeze(1)"
   ]
  },
  {
   "cell_type": "code",
   "execution_count": 323,
   "id": "6225d999-7bd0-4ef3-8252-a69ee46dd8bd",
   "metadata": {},
   "outputs": [
    {
     "data": {
      "text/plain": [
       "(torch.Size([784]), tensor([1]))"
      ]
     },
     "execution_count": 323,
     "metadata": {},
     "output_type": "execute_result"
    }
   ],
   "source": [
    "dataset = list(zip(train_x, train_y))\n",
    "x, y = dataset[0]\n",
    "x.shape, y"
   ]
  },
  {
   "cell_type": "code",
   "execution_count": 328,
   "id": "308425c3-8f55-447b-9237-61ed3c4a698b",
   "metadata": {},
   "outputs": [],
   "source": [
    "valid_x = torch.cat([valid_3_tensor, valid_7_tensor]).view(-1, 28*28)\n",
    "valid_y = torch.tensor(valid_3_tensor.shape[0] * [1] + valid_7_tensor.shape[0] * [0])\n",
    "valid_dataset = list(zip(valid_x, valid_y))"
   ]
  },
  {
   "cell_type": "code",
   "execution_count": 341,
   "id": "ef37fb4d-2398-4c11-a6e7-bc48ff0ea61d",
   "metadata": {},
   "outputs": [],
   "source": [
    "def init_params(size, std=1.0): \n",
    "    return (torch.randn(size)*std).requires_grad_()\n",
    "\n",
    "weights = init_params(28*28)\n",
    "bias = init_params(1)"
   ]
  },
  {
   "cell_type": "code",
   "execution_count": 353,
   "id": "7ea117e5-54be-43ef-92b5-adc1ae8ef282",
   "metadata": {},
   "outputs": [
    {
     "data": {
      "text/plain": [
       "tensor([ -9.5715, -11.2772,  -9.4771,  ...,   8.5544, -11.2808,  -0.5879],\n",
       "       grad_fn=<AddBackward0>)"
      ]
     },
     "execution_count": 353,
     "metadata": {},
     "output_type": "execute_result"
    }
   ],
   "source": [
    "def linear1(xb):\n",
    "    return xb@weights + bias\n",
    "\n",
    "preds = linear1(train_x) # or simply train_x@weights + bias\n",
    "preds"
   ]
  },
  {
   "cell_type": "code",
   "execution_count": 357,
   "id": "8b97b559-6e9f-42e4-8c0c-272f88675223",
   "metadata": {},
   "outputs": [
    {
     "data": {
      "text/plain": [
       "tensor(0.1635)"
      ]
     },
     "execution_count": 357,
     "metadata": {},
     "output_type": "execute_result"
    }
   ],
   "source": [
    "# accuracy 'is 3'\n",
    "(preds > 0.).float().mean()"
   ]
  },
  {
   "cell_type": "markdown",
   "id": "e6ebd204-7cd6-4fc7-b4a9-e1a335e66730",
   "metadata": {},
   "source": [
    "# my try to optimize (linear regression with pytorch)"
   ]
  },
  {
   "cell_type": "code",
   "execution_count": 394,
   "id": "5824ce58-be06-4b18-bdd7-469bd9766bd7",
   "metadata": {},
   "outputs": [],
   "source": [
    "def linear2(xb):\n",
    "    return (torch.sigmoid((xb@weights) + bias)).float().unsqueeze(1)\n",
    "\n",
    "preds = linear2(train_x)"
   ]
  },
  {
   "cell_type": "code",
   "execution_count": null,
   "id": "aebac5d9-d70a-416a-bffb-498723e8942e",
   "metadata": {},
   "outputs": [],
   "source": [
    "def loss1(preds, target):\n",
    "    return torch.where(target == 1, 1-preds, preds).mean()\n",
    "\n",
    "def my_loss(pred, target)\n",
    "    return F.binary_cross_entropy(preds, target.float())"
   ]
  },
  {
   "cell_type": "code",
   "execution_count": 405,
   "id": "5b9c8d04-90c9-49eb-a738-98df2bcf2d2c",
   "metadata": {},
   "outputs": [
    {
     "name": "stdout",
     "output_type": "stream",
     "text": [
      "CrossEntropyLoss: 3.86753511428833\n",
      "CrossEntropyLoss: 2.7571544647216797\n",
      "CrossEntropyLoss: 2.0759453773498535\n",
      "CrossEntropyLoss: 1.669029951095581\n",
      "CrossEntropyLoss: 1.4027055501937866\n",
      "CrossEntropyLoss: 1.218564510345459\n",
      "CrossEntropyLoss: 1.063765048980713\n",
      "CrossEntropyLoss: 0.9514778852462769\n",
      "CrossEntropyLoss: 0.8522312045097351\n",
      "CrossEntropyLoss: 0.7738466262817383\n",
      "CrossEntropyLoss: 0.7061665654182434\n",
      "CrossEntropyLoss: 0.6531568765640259\n",
      "CrossEntropyLoss: 0.606289267539978\n",
      "CrossEntropyLoss: 0.5641611814498901\n",
      "CrossEntropyLoss: 0.5259830355644226\n",
      "CrossEntropyLoss: 0.5043594837188721\n",
      "CrossEntropyLoss: 0.48527976870536804\n",
      "CrossEntropyLoss: 0.4683549106121063\n",
      "CrossEntropyLoss: 0.4532194435596466\n",
      "CrossEntropyLoss: 0.4395400881767273\n"
     ]
    }
   ],
   "source": [
    "def SGD(weights, bias, it, lr=1e-3, prn=True):\n",
    "    \n",
    "    def _update(param):\n",
    "        param.data = param - param.grad * lr\n",
    "        param.grad = None\n",
    "    \n",
    "    preds = linear2(train_x)\n",
    "    loss = \n",
    "    loss.backward()\n",
    "    _update(weights)\n",
    "    _update(bias)\n",
    "    \n",
    "    if not it%prn: print(\"CrossEntropyLoss: {}\".format(loss.item()))\n",
    "    \n",
    "    return preds\n",
    "\n",
    "weights = init_params(28*28)\n",
    "bias = init_params(1)\n",
    "\n",
    "for i in range(1000):\n",
    "    SGD(weights, bias, i, lr=1e-2, prn=50)"
   ]
  },
  {
   "cell_type": "code",
   "execution_count": 406,
   "id": "ad68e893-e63d-4b8c-b1b8-bd7d73aec456",
   "metadata": {},
   "outputs": [
    {
     "name": "stdout",
     "output_type": "stream",
     "text": [
      "CrossEntropyLoss: 0.4272018074989319\n"
     ]
    }
   ],
   "source": [
    "preds = SGD(weights, bias, 0)"
   ]
  },
  {
   "cell_type": "code",
   "execution_count": 407,
   "id": "14288080-d4eb-48a2-abbc-e8f1a4fd3ebe",
   "metadata": {},
   "outputs": [
    {
     "data": {
      "text/plain": [
       "tensor(0.9134)"
      ]
     },
     "execution_count": 407,
     "metadata": {},
     "output_type": "execute_result"
    }
   ],
   "source": [
    "((preds > .5).int() == train_y).float().mean()"
   ]
  }
 ],
 "metadata": {
  "kernelspec": {
   "display_name": "Python 3 (ipykernel)",
   "language": "python",
   "name": "python3"
  },
  "language_info": {
   "codemirror_mode": {
    "name": "ipython",
    "version": 3
   },
   "file_extension": ".py",
   "mimetype": "text/x-python",
   "name": "python",
   "nbconvert_exporter": "python",
   "pygments_lexer": "ipython3",
   "version": "3.9.12"
  }
 },
 "nbformat": 4,
 "nbformat_minor": 5
}
